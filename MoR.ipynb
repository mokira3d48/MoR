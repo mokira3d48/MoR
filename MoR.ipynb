{
 "cells": [
  {
   "cell_type": "markdown",
   "id": "dbe3e049",
   "metadata": {},
   "source": [
    "# Introduction"
   ]
  },
  {
   "cell_type": "markdown",
   "id": "23d91334",
   "metadata": {},
   "source": [
    "Pourquoi MoR est une petite révolution ?\n",
    "Imaginez un modèle de langage qui combine l’efficacité mémoire\n",
    "des architectures à partage de paramètres (comme ALBERT) avec l’intelligence\n",
    "computationnelle du calcul adaptatif (comme Mixture-of-Depths) :\n",
    "c’est exactement ce que propose Mixture-of-Recursions (MoR).\n",
    "Au lieu d’utiliser des couches distinctes, MoR réutilise un même bloc\n",
    "de calcul de manière récursive, tandis qu’un routeur léger décide\n",
    "dynamiquement pour chaque mot s’il doit « sortir » rapidement ou \"réfléchir\"\n",
    "plus longtemps en passant par des recursions supplémentaires. Résultat ?\n",
    "Une réduction simultanée de la taille du modèle (-50\\% de paramètres),\n",
    "du temps de calcul (meilleur débit d’inférence) et de la mémoire cache,\n",
    "sans sacrifier la performance --- ouvrant la voie à des LLMs à la fois agiles,\n",
    "économiques et puissants. Une avancée architecturale majeure qui mérite\n",
    "d’être explorée dans les moindres détails !"
   ]
  },
  {
   "cell_type": "code",
   "execution_count": null,
   "id": "fbfad2aa-47c5-498b-89f9-e920a2ceb7a4",
   "metadata": {},
   "outputs": [],
   "source": []
  }
 ],
 "metadata": {
  "kernelspec": {
   "display_name": "Python 3 (ipykernel)",
   "language": "python",
   "name": "python3"
  },
  "language_info": {
   "codemirror_mode": {
    "name": "ipython",
    "version": 3
   },
   "file_extension": ".py",
   "mimetype": "text/x-python",
   "name": "python",
   "nbconvert_exporter": "python",
   "pygments_lexer": "ipython3",
   "version": "3.10.12"
  }
 },
 "nbformat": 4,
 "nbformat_minor": 5
}
